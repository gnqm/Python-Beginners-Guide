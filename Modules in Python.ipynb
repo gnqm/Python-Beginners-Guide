{
 "cells": [
  {
   "cell_type": "markdown",
   "metadata": {},
   "source": [
    "# Python Modules"
   ]
  },
  {
   "cell_type": "markdown",
   "metadata": {},
   "source": [
    "### Dates using datetime library"
   ]
  },
  {
   "cell_type": "code",
   "execution_count": 1,
   "metadata": {},
   "outputs": [
    {
     "name": "stdout",
     "output_type": "stream",
     "text": [
      "dt.date.today(): 2019-09-16\n",
      "dt.datetime.now(): 2019-09-16 20:52:36.753728\n",
      "\n",
      "Formatted date using strftime(): 16/09/19\n",
      "Formatted datetime using strftime(): 16-09-2019 20:52:36 PM\n",
      "Month of the current date: 9\n",
      "\n",
      "Date from String using strptime(): 2014-05-21 12:30:00\n"
     ]
    }
   ],
   "source": [
    "# dates in python\n",
    "# Press tab button in Jupyter notebooks to explore various functions in library\n",
    "\n",
    "import datetime as dt\n",
    "current_date=dt.date.today() # today's date\n",
    "print(\"dt.date.today():\",current_date)\n",
    "\n",
    "current_datetime=dt.datetime.now() # today's date and time\n",
    "print(\"dt.datetime.now():\",current_datetime)\n",
    "\n",
    "# Converting date into String\n",
    "print(\"\\nFormatted date using strftime():\",current_date.strftime('%d/%m/%y')) # string format time\n",
    "print(\"Formatted datetime using strftime():\",current_datetime.strftime('%d-%m-%Y %H:%M:%S %p'))\n",
    "\n",
    "# Accessing information from date\n",
    "print(\"Month of the current date:\",current_date.month)\n",
    "\n",
    "# Converting String into date\n",
    "print('\\nDate from String using strptime():',dt.datetime.strptime('21/05/2014 12:30','%d/%m/%Y %H:%M'))"
   ]
  },
  {
   "cell_type": "markdown",
   "metadata": {},
   "source": [
    "### Generating Random Numbers using random library"
   ]
  },
  {
   "cell_type": "code",
   "execution_count": 2,
   "metadata": {},
   "outputs": [
    {
     "name": "stdout",
     "output_type": "stream",
     "text": [
      "Generating three random numbers using rd.random():\n",
      "0.388186377678442\n",
      "0.3506081508948595\n",
      "0.9832798619475508\n",
      "\n",
      "Generating a random number between a defined range using rd.randint(1,10): 2\n",
      "\n",
      "Sequence c: [2, 5, 73, 7, 34, 234, 67, 2354, 62, 22, 67, 82, 5]\n",
      "Choosing a number from a sequence using rd.choice(c): 34\n"
     ]
    }
   ],
   "source": [
    "import random as rd\n",
    "print(\"Generating three random numbers using rd.random():\")\n",
    "for i in range(3):\n",
    "    a=rd.random() # random() generates random numbers between 0.0 and 1.0 (including 0.0 but excluding 1.0)\n",
    "    print(a)\n",
    "    \n",
    "b=rd.randint(1,10) # randint(low,high) returns an integer number between low and high value (including both)\n",
    "print(\"\\nGenerating a random number between a defined range using rd.randint(1,10):\",b)\n",
    "\n",
    "c=[2,5,73,7,34,234,67,2354,62,22,67,82,5]\n",
    "print(\"\\nSequence c:\",c)\n",
    "d=rd.choice(c) # choice(sequence) returns a random number from the sequence\n",
    "print(\"Choosing a number from a sequence using rd.choice(c):\",d)"
   ]
  },
  {
   "cell_type": "markdown",
   "metadata": {},
   "source": [
    "### Generating punctuations using string library"
   ]
  },
  {
   "cell_type": "code",
   "execution_count": 3,
   "metadata": {},
   "outputs": [
    {
     "name": "stdout",
     "output_type": "stream",
     "text": [
      "\n",
      "Special characters: !\"#$%&'()*+,-./:;<=>?@[\\]^_`{|}~\n"
     ]
    }
   ],
   "source": [
    "import string as st\n",
    "print(\"\\nSpecial characters:\",st.punctuation) # explore other options using tab button"
   ]
  },
  {
   "cell_type": "markdown",
   "metadata": {},
   "source": [
    "### Copy library"
   ]
  },
  {
   "cell_type": "code",
   "execution_count": 4,
   "metadata": {},
   "outputs": [
    {
     "name": "stdout",
     "output_type": "stream",
     "text": [
      "\n",
      "a: [1, 2, 3, 4, 5] \n",
      "b: [1, 2, 3, 4, 5] \n",
      "c: [1, 2, 3, 4, 5]\n",
      "\n",
      "b is a: False\n",
      "c is a: True\n",
      "c is b: False\n",
      "\n",
      "a==b: True\n",
      "c==b: True\n"
     ]
    }
   ],
   "source": [
    "import copy as cp\n",
    "a=[1,2,3,4,5]\n",
    "b=cp.copy(a) # copy() duplicates the object\n",
    "c=a\n",
    "print(\"\\na:\",a,\"\\nb:\",b,\"\\nc:\",c)\n",
    "\n",
    "print(\"\\nb is a:\",b is a) # both refers to the different object\n",
    "print(\"c is a:\",c is a) # both refers to the same object\n",
    "print(\"c is b:\",c is b) # both refers to the different object\n",
    "\n",
    "print(\"\\na==b:\",a==b)\n",
    "print(\"c==b:\",c==b)"
   ]
  },
  {
   "cell_type": "markdown",
   "metadata": {},
   "source": [
    "### JSON library"
   ]
  },
  {
   "cell_type": "code",
   "execution_count": 5,
   "metadata": {},
   "outputs": [
    {
     "name": "stdout",
     "output_type": "stream",
     "text": [
      "myjson: {\"A\":1,\"B\":2,\"C\":3}  has type: <class 'str'>\n",
      "myjson1: {'A': 1, 'B': 2, 'C': 3}  has type: <class 'dict'>\n",
      "\n",
      "dictionary: {'X': 1, 'Y': 2, 'Z': 3}  has type: <class 'dict'>\n",
      "json_file: {\"X\": 1, \"Y\": 2, \"Z\": 3}  has type: <class 'str'>\n"
     ]
    }
   ],
   "source": [
    "import json\n",
    "myjson='{\"A\":1,\"B\":2,\"C\":3}'\n",
    "print(\"myjson:\",myjson,\" has type:\",type(myjson))\n",
    "\n",
    "myjson1=json.loads(myjson) # Parse to dict\n",
    "print(\"myjson1:\",myjson1,\" has type:\",type(myjson1))\n",
    "\n",
    "dictionary={\"X\":1,\"Y\":2,\"Z\":3}\n",
    "print(\"\\ndictionary:\",dictionary,\" has type:\",type(dictionary))\n",
    "json_file=json.dumps(dictionary)\n",
    "print(\"json_file:\",json_file,\" has type:\",type(json_file))"
   ]
  },
  {
   "cell_type": "markdown",
   "metadata": {},
   "source": [
    "### Collections Module\n",
    "### Counter\n",
    "* Counter is a subclass of dictionary object. \n",
    "* The Counter() function in collections module takes an iterable or a mapping as the argument and returns a Dictionary.\n",
    "* In this dictionary, a key is an element in the iterable or the mapping and value is the number of times that element exists in the iterable or the mapping."
   ]
  },
  {
   "cell_type": "code",
   "execution_count": 6,
   "metadata": {},
   "outputs": [
    {
     "name": "stdout",
     "output_type": "stream",
     "text": [
      "Collection of Fruits: ['apples', 'apples', 'mangoes', 'mangoes', 'mangoes', 'mangoes', 'bananas', 'bananas', 'bananas', 'bananas', 'bananas', 'bananas', 'kiwi', 'kiwi', 'kiwi', 'pomegranate', 'pomegranate', 'pomegranate', 'lichi', 'lichi', 'lichi', 'lichi', 'lichi', 'lichi', 'lichi', 'lichi', 'lichi', 'lichi', 'oranges', 'oranges', 'oranges', 'oranges', 'oranges', 'oranges']\n",
      "\n",
      "Total Fruits: [('lichi', 10), ('bananas', 6), ('oranges', 6), ('mangoes', 4), ('kiwi', 3), ('pomegranate', 3), ('apples', 2)]\n",
      "Mangoes: 4\n",
      "Cherries: 0\n",
      "\n",
      "Fruits Purchased: ['apples', 'oranges', 'mangoes', 'mangoes', 'mangoes', 'lichi', 'bananas', 'papaya']\n",
      "Total Fruits with their updated quantities: [('lichi', 11), ('mangoes', 7), ('bananas', 7), ('oranges', 7), ('apples', 3), ('kiwi', 3), ('pomegranate', 3), ('papaya', 1)]\n",
      "\n",
      "Fruits Consumed: ['lichi', 'lichi', 'mangoes', 'pomegranate', 'mangoes', 'apples', 'bananas', 'pomegranate', 'apples', 'oranges', 'mangoes']\n",
      "Total Fruits with their updated quantities: [('lichi', 9), ('bananas', 6), ('oranges', 6), ('mangoes', 4), ('kiwi', 3), ('apples', 1), ('pomegranate', 1), ('papaya', 1)]\n"
     ]
    }
   ],
   "source": [
    "from collections import Counter\n",
    "c=Counter() # Counter() can often substitute for a dictionary\n",
    "\n",
    "# Adding fruits \n",
    "c['apples']+=2\n",
    "c['mangoes']+=4\n",
    "c['bananas']+=6\n",
    "c['kiwi']+=3\n",
    "c['pomegranate']+=2\n",
    "c['lichi']+=10\n",
    "c['oranges']+=6\n",
    "c['pomegranate']+=1\n",
    "\n",
    "print('Collection of Fruits:',list(c.elements())) # elements displays the elements of the counter in a list\n",
    "\n",
    "print('\\nTotal Fruits:',c.most_common()) # most_common() returns list of elements and counts, sorted by counts\n",
    "print('Mangoes:',c['mangoes'])\n",
    "print('Cherries:',c['cherries'])\n",
    "\n",
    "purchased=['apples','oranges','mangoes','mangoes','mangoes','lichi','bananas','papaya']\n",
    "c.update(purchased) # update() adds to the count instead of replacing them\n",
    "print('\\nFruits Purchased:',purchased)\n",
    "print('Total Fruits with their updated quantities:',c.most_common())\n",
    "\n",
    "consumed=['lichi','lichi','mangoes','pomegranate','mangoes','apples','bananas','pomegranate','apples','oranges','mangoes']\n",
    "c.subtract(consumed) # subtract() is the complement of update()\n",
    "print('\\nFruits Consumed:',consumed)\n",
    "print('Total Fruits with their updated quantities:',c.most_common())"
   ]
  },
  {
   "cell_type": "markdown",
   "metadata": {},
   "source": [
    "### defaultdict\n",
    "* The defaultdict works exactly like a python dictionary, except for it does not throw KeyError when a non-existent key is accessed.\n",
    "* It initializes the key with the element of the data type that is passed as an argument at the creation of defaultdict. The data type is called default_factory."
   ]
  },
  {
   "cell_type": "code",
   "execution_count": 7,
   "metadata": {},
   "outputs": [
    {
     "name": "stdout",
     "output_type": "stream",
     "text": [
      "str_dict['Test']: \n",
      "str_dict: defaultdict(<class 'str'>, {'Test': ''})\n",
      "\n",
      "float_dict['Test']: 0.0\n",
      "float_dict: defaultdict(<class 'float'>, {'Test': 0.0})\n",
      "\n",
      "int_dict['Test']: 0\n",
      "int_dict: defaultdict(<class 'int'>, {'Test': 0})\n",
      "int_dict: defaultdict(<class 'int'>, {'Test': 0, 'Exam': 1, 'Subject': 'Mathematics'})\n",
      "\n",
      "class_dict['Test']: 1/2\n",
      "class_dict: defaultdict(<class '__main__.Fraction'>, {'Test': 1/2})\n",
      "\n",
      "func_dict['Test']: Default\n",
      "func_dict: defaultdict(<function test_func at 0x0000022DB2B21510>, {'Test': 'Default'})\n"
     ]
    }
   ],
   "source": [
    "from collections import defaultdict\n",
    "\n",
    "# defaultdict generates default values for missing keys\n",
    "# Accessing a missing key raises no errors in a defaultdict \n",
    "\n",
    "str_dict=defaultdict(str)\n",
    "print(\"str_dict['Test']:\",str_dict['Test']) # Default Value ''\n",
    "print('str_dict:',str_dict)\n",
    "\n",
    "float_dict=defaultdict(float)\n",
    "print(\"\\nfloat_dict['Test']:\",float_dict['Test']) # Default Value 0.0\n",
    "print('float_dict:',float_dict)\n",
    "\n",
    "int_dict=defaultdict(int)\n",
    "print(\"\\nint_dict['Test']:\",int_dict['Test']) # Default Value 0\n",
    "print('int_dict:',int_dict)\n",
    "\n",
    "# Adding new elements in the int_dict\n",
    "int_dict['Exam']+=1\n",
    "int_dict['Subject']='Mathematics'\n",
    "print(\"int_dict:\",int_dict)\n",
    "\n",
    "class Fraction(object):\n",
    "    def __init__(self):\n",
    "        self.n=1\n",
    "        self.d=2\n",
    "    def __repr__(self):\n",
    "        return '{0}/{1}'.format(self.n,self.d)\n",
    "    \n",
    "class_dict=defaultdict(Fraction)\n",
    "print(\"\\nclass_dict['Test']:\",class_dict['Test']) # Default Value 1/2 (as defined in the above class)\n",
    "print('class_dict:',class_dict)\n",
    "\n",
    "def test_func():\n",
    "    return 'Default'\n",
    "\n",
    "func_dict=defaultdict(test_func)\n",
    "print(\"\\nfunc_dict['Test']:\",func_dict['Test']) # Default Value 'Default' (as defined in the above function)\n",
    "print('func_dict:',func_dict)"
   ]
  },
  {
   "cell_type": "markdown",
   "metadata": {},
   "source": [
    "### OrderedDict\n",
    "* OrderedDict is a dictionary where keys maintain the order in which they are inserted, which means if the value of a key is changed later, it will not change the position of the key."
   ]
  },
  {
   "cell_type": "code",
   "execution_count": 8,
   "metadata": {},
   "outputs": [
    {
     "name": "stdout",
     "output_type": "stream",
     "text": [
      "fruit_dict: OrderedDict([('apples', 10), ('oranges', 3), ('kiwi', 2), ('pineapples', 8), ('mangoes', 7), ('lichi', 9), ('bananas', 2), ('papaya', 9)])\n",
      "\n",
      "fruit_dict: OrderedDict([('apples', 10), ('oranges', 3), ('kiwi', 2), ('pineapples', 8), ('mangoes', 7), ('lichi', 9), ('bananas', 2), ('papaya', 9), ('cheeries', 5)])\n",
      "\n",
      "fruit_dict: OrderedDict([('apples', 13), ('oranges', 3), ('kiwi', 2), ('pineapples', 8), ('mangoes', 7), ('lichi', 9), ('bananas', 2), ('papaya', 9), ('cheeries', 5)])\n",
      "\n",
      "fruit_dict: OrderedDict([('apples', 13), ('oranges', 3), ('pineapples', 8), ('mangoes', 7), ('lichi', 9), ('bananas', 2), ('papaya', 9), ('cheeries', 5), ('kiwi', 2)])\n",
      "\n",
      "fruit_dict: OrderedDict([('kiwi', 2), ('apples', 13), ('oranges', 3), ('pineapples', 8), ('mangoes', 7), ('lichi', 9), ('bananas', 2), ('papaya', 9), ('cheeries', 5)])\n",
      "\n",
      "fruit_dict: OrderedDict([('kiwi', 2), ('apples', 13), ('oranges', 3), ('pineapples', 8), ('mangoes', 7), ('lichi', 9), ('bananas', 2), ('papaya', 9)])\n",
      "\n",
      "fruit_dict: OrderedDict([('apples', 13), ('oranges', 3), ('pineapples', 8), ('mangoes', 7), ('lichi', 9), ('bananas', 2), ('papaya', 9)])\n"
     ]
    }
   ],
   "source": [
    "from collections import OrderedDict\n",
    "import random\n",
    "\n",
    "# Insertion Order of keys is maintained\n",
    "# Accessing a missing key raises an error in a OrderedDict \n",
    "\n",
    "fruit_dict=OrderedDict()\n",
    "fruits=['apples','oranges','kiwi','pineapples','mangoes','lichi','bananas','papaya']\n",
    "for each in fruits:\n",
    "    fruit_dict[each]=random.randint(1,10)\n",
    "print(\"fruit_dict:\",fruit_dict)\n",
    "\n",
    "# Inserting a new key in the OrderedDict\n",
    "fruit_dict['cheeries']=5\n",
    "print(\"\\nfruit_dict:\",fruit_dict)\n",
    "\n",
    "# Changing a value of key in the OrderedDict\n",
    "fruit_dict['apples']=fruit_dict['apples']+3\n",
    "print(\"\\nfruit_dict:\",fruit_dict)\n",
    "\n",
    "# Moving the key 'kiwi' at the last position\n",
    "fruit_dict.move_to_end('kiwi') # by default, it moves to the right\n",
    "print(\"\\nfruit_dict:\",fruit_dict)\n",
    "\n",
    "# Moving the key 'kiwi' at the first position\n",
    "fruit_dict.move_to_end('kiwi',last=False) # by default, it moves to the right\n",
    "print(\"\\nfruit_dict:\",fruit_dict)\n",
    "\n",
    "# Removing the last key\n",
    "fruit_dict.popitem()\n",
    "print(\"\\nfruit_dict:\",fruit_dict)\n",
    "\n",
    "# Removing the first key\n",
    "fruit_dict.popitem(last=False)\n",
    "print(\"\\nfruit_dict:\",fruit_dict)"
   ]
  },
  {
   "cell_type": "markdown",
   "metadata": {},
   "source": [
    "### namedtuple\n",
    "The namedtuple() returns a tuple with names for each position in the tuple. "
   ]
  },
  {
   "cell_type": "code",
   "execution_count": 9,
   "metadata": {},
   "outputs": [
    {
     "name": "stdout",
     "output_type": "stream",
     "text": [
      "Student_1: student(Name='Jack', City='Berlin', Age=26)\n",
      "Student_1 Name: Jack\n",
      "\n",
      "Student_2: student(Name='Jim', City='London', Age=22)\n",
      "Student_2 City: London\n",
      "\n",
      "Student_3: student(Name='John', City='New York', Age=24)\n",
      "Student_3 Age: 24\n",
      "\n",
      "Student_4: student(Name='Joe', City='Tokyo', Age='23')\n",
      "\n",
      "Student_1 OrderedDict: OrderedDict([('Name', 'Jack'), ('City', 'Berlin'), ('Age', 26)])\n",
      "\n",
      "Student_1 Earlier: student(Name='Jack', City='Berlin', Age=26)\n",
      "Student_1 Now: student(Name='Jack', City='Berlin', Age='27')\n"
     ]
    }
   ],
   "source": [
    "from collections import namedtuple\n",
    "\n",
    "student=namedtuple(typename='student',field_names=['Name','City','Age'])\n",
    "s1=student('Jack','Berlin',26)\n",
    "s2=student('Jim','London',22)\n",
    "s3=student('John','New York',24)\n",
    "\n",
    "print('Student_1:',s1)\n",
    "print('Student_1 Name:',s1.Name)\n",
    "\n",
    "print('\\nStudent_2:',s2)\n",
    "print('Student_2 City:',s2.City)\n",
    "\n",
    "print('\\nStudent_3:',s3)\n",
    "print('Student_3 Age:',s3.Age)\n",
    "\n",
    "# _make() to create a namedtuple instance with a list\n",
    "s4 = student._make(['Joe','Tokyo','23'])\n",
    "print('\\nStudent_4:',s4)\n",
    "\n",
    "# _asdict() function can be used to create an OrderedDict instance from an existing instance\n",
    "s1_dict = s1._asdict()\n",
    "print('\\nStudent_1 OrderedDict:',s1_dict)\n",
    "\n",
    "# _replace() function changes the value of a field of an instance; it creates a new instance\n",
    "s5 = s1._replace(Age='27')\n",
    "print('\\nStudent_1 Earlier:',s1)\n",
    "print('Student_1 Now:',s5)"
   ]
  },
  {
   "cell_type": "markdown",
   "metadata": {},
   "source": [
    "### deque (Double Ended Queue)\n",
    "* The deque is a list optimized for inserting and removing items."
   ]
  },
  {
   "cell_type": "code",
   "execution_count": 10,
   "metadata": {},
   "outputs": [
    {
     "name": "stdout",
     "output_type": "stream",
     "text": [
      "Deck: deque([2, 3, 5, 7, 11, 13, 17, 19])\n",
      "Deck is rotated by 1: deque([19, 2, 3, 5, 7, 11, 13, 17])\n",
      "Deck is rotated by 2: deque([13, 17, 19, 2, 3, 5, 7, 11])\n",
      "Deck is rotated by 3: deque([5, 7, 11, 13, 17, 19, 2, 3])\n",
      "Deck is rotated by 4: deque([17, 19, 2, 3, 5, 7, 11, 13])\n",
      "Deck is rotated by 5: deque([3, 5, 7, 11, 13, 17, 19, 2])\n",
      "Deck is rotated by 6: deque([7, 11, 13, 17, 19, 2, 3, 5])\n",
      "Deck is rotated by 7: deque([11, 13, 17, 19, 2, 3, 5, 7])\n",
      "Deck is rotated by 8: deque([11, 13, 17, 19, 2, 3, 5, 7])\n",
      "Deck is rotated by 9(1): deque([7, 11, 13, 17, 19, 2, 3, 5])\n",
      "Deck is rotated by 10(2): deque([3, 5, 7, 11, 13, 17, 19, 2])\n",
      "Deck is rotated by 11(3): deque([17, 19, 2, 3, 5, 7, 11, 13])\n",
      "Deck is rotated by 12(4): deque([5, 7, 11, 13, 17, 19, 2, 3])\n",
      "Deck is rotated by 13(5): deque([13, 17, 19, 2, 3, 5, 7, 11])\n",
      "Deck is rotated by 14(6): deque([19, 2, 3, 5, 7, 11, 13, 17])\n",
      "Deck is rotated by 15(7): deque([2, 3, 5, 7, 11, 13, 17, 19])\n",
      "\n",
      "Deck: deque([2, 3, 5, 7, 11, 13, 17, 19])\n",
      "Deck is rotated by -1: deque([3, 5, 7, 11, 13, 17, 19, 2])\n",
      "Deck is rotated by -2: deque([7, 11, 13, 17, 19, 2, 3, 5])\n",
      "Deck is rotated by -3: deque([17, 19, 2, 3, 5, 7, 11, 13])\n",
      "Deck is rotated by -4: deque([5, 7, 11, 13, 17, 19, 2, 3])\n",
      "Deck is rotated by -5: deque([19, 2, 3, 5, 7, 11, 13, 17])\n",
      "Deck is rotated by -6: deque([13, 17, 19, 2, 3, 5, 7, 11])\n",
      "Deck is rotated by -7: deque([11, 13, 17, 19, 2, 3, 5, 7])\n",
      "Deck is rotated by -8: deque([11, 13, 17, 19, 2, 3, 5, 7])\n",
      "Deck is rotated by -9(-1): deque([13, 17, 19, 2, 3, 5, 7, 11])\n",
      "Deck is rotated by -10(-2): deque([19, 2, 3, 5, 7, 11, 13, 17])\n",
      "Deck is rotated by -11(-3): deque([5, 7, 11, 13, 17, 19, 2, 3])\n",
      "Deck is rotated by -12(-4): deque([17, 19, 2, 3, 5, 7, 11, 13])\n",
      "Deck is rotated by -13(-5): deque([7, 11, 13, 17, 19, 2, 3, 5])\n",
      "Deck is rotated by -14(-6): deque([3, 5, 7, 11, 13, 17, 19, 2])\n",
      "Deck is rotated by -15(-7): deque([2, 3, 5, 7, 11, 13, 17, 19])\n",
      "\n",
      "New_Deck: deque([1, 2, 3, 4, 5], maxlen=5)\n",
      "New_Deck after extending elements at the right side: deque([3, 4, 5, 6, 7], maxlen=5)\n",
      "New_Deck after extending elements at the left side: deque([7, 6, 3, 4, 5], maxlen=5)\n",
      "New_Deck after appending an element at the right side: deque([6, 3, 4, 5, 8], maxlen=5)\n",
      "New_Deck after appending an element at the left side: deque([8, 6, 3, 4, 5], maxlen=5)\n",
      "New_Deck after removing the rightmost element: deque([8, 6, 3, 4], maxlen=5)\n",
      "New_Deck after removing the leftmost element: deque([6, 3, 4], maxlen=5)\n",
      "\n",
      "Deck: deque([10, 20, 30, 20, 20, 30, 10, 30, 20])\n",
      "Count of an element in deck: 4\n",
      "Removing all elements in deque: deque([])\n"
     ]
    }
   ],
   "source": [
    "from collections import deque\n",
    "\n",
    "# Python has no specific stack or queue type\n",
    "# Deque is similar to the list type (minus sorting)\n",
    "# Both the ends of deque can be modified\n",
    "\n",
    "prime_no=[2,3,5,7,11,13,17,19]\n",
    "deck=deque(prime_no)\n",
    "print('Deck:',deck)\n",
    "\n",
    "for i in range(1,20):\n",
    "    deck.rotate(i)\n",
    "    if i>len(deck):\n",
    "        print('Deck is rotated by {0}({1}):'.format(i,i-len(deck)),deck)\n",
    "    else:\n",
    "        print('Deck is rotated by {0}:'.format(i),deck)\n",
    "    if deck==deque(prime_no):\n",
    "        break\n",
    "        \n",
    "print('\\nDeck:',deck)\n",
    "for i in range(-1,-20,-1):\n",
    "    deck.rotate(i)\n",
    "    if i<-len(deck):\n",
    "        print('Deck is rotated by {0}({1}):'.format(i,i-(-len(deck))),deck)\n",
    "    else:\n",
    "        print('Deck is rotated by {0}:'.format(i),deck)\n",
    "    if deck==deque(prime_no):\n",
    "        break\n",
    "        \n",
    "new_deck=deque(maxlen=5)\n",
    "new_deck.extend(range(1,6))\n",
    "print('\\nNew_Deck:',new_deck)\n",
    "\n",
    "# Extending new elements\n",
    "new_deck.extend([6,7]) # [6,7] are extended in the right of the queue, [1,2] are removed from the left of queue\n",
    "print('New_Deck after extending elements at the right side:',new_deck)\n",
    "\n",
    "# Extending new elements at left\n",
    "new_deck.extendleft([6,7]) # [7,6] are extended in the left of the queue, [6,7] are removed from the right of queue\n",
    "print('New_Deck after extending elements at the left side:',new_deck)\n",
    "\n",
    "# Appending new element\n",
    "new_deck.append(8)\n",
    "print('New_Deck after appending an element at the right side:',new_deck)\n",
    "\n",
    "# Appending new element at left\n",
    "new_deck.appendleft(8)\n",
    "print('New_Deck after appending an element at the left side:',new_deck)\n",
    "\n",
    "# Removing the rightmost element\n",
    "new_deck.pop()\n",
    "print('New_Deck after removing the rightmost element:',new_deck)\n",
    "\n",
    "# Removing the leftmost element\n",
    "new_deck.popleft()\n",
    "print('New_Deck after removing the leftmost element:',new_deck)\n",
    "\n",
    "\n",
    "deck=deque([10,20,30,20,20,30,10,30,20])\n",
    "print('\\nDeck:',deck)\n",
    "print('Count of an element in deck:',deck.count(20))\n",
    "deck.clear()\n",
    "print('Removing all elements in deque:',deck)"
   ]
  },
  {
   "cell_type": "markdown",
   "metadata": {},
   "source": [
    "### ChainMap\n",
    "ChainMap is used to combine several dictionaries or mappings. It returns a list of dictionaries."
   ]
  },
  {
   "cell_type": "code",
   "execution_count": 11,
   "metadata": {},
   "outputs": [
    {
     "name": "stdout",
     "output_type": "stream",
     "text": [
      "ChainMap({'a': 1, 'b': 2}, {'c': 3, 'b': 4})\n",
      "List of Dictionaries: [{'a': 1, 'b': 2}, {'c': 3, 'b': 4}]\n",
      "\n",
      "chain_map['a']: 1\n",
      "ChainMap({'a': 1, 'b': 2}, {'c': 5, 'b': 4})\n",
      "Keys: ['b', 'c', 'a']\n",
      "Values: [2, 5, 1]\n",
      "\n",
      "Updated chain_map: ChainMap({'e': 5, 'f': 6}, {'a': 1, 'b': 2}, {'c': 5, 'b': 4})\n"
     ]
    }
   ],
   "source": [
    "from collections import ChainMap\n",
    "\n",
    "dict1 = { 'a' : 1, 'b' : 2 }\n",
    "dict2 = { 'c' : 3, 'b' : 4 }\n",
    "chain_map = ChainMap(dict1, dict2)\n",
    "print(chain_map)\n",
    "\n",
    "# Fetching list of dictionaries\n",
    "print('List of Dictionaries:',chain_map.maps)\n",
    "\n",
    "# Accessing chain map values by key name\n",
    "print(\"\\nchain_map['a']:\",chain_map['a'])\n",
    "\n",
    "# Updating a key in dictionary\n",
    "dict2['c'] = 5\n",
    "print(chain_map)\n",
    "\n",
    "# Fetching Keys\n",
    "print('Keys:',list(chain_map.keys())) # printing only unique keys\n",
    "\n",
    "# Fetching Values\n",
    "print('Values:',list(chain_map.values())) \n",
    "# if one key appears in more than one associated dictionaries, ChainMap takes the value for that key from the first dictionary. \n",
    "\n",
    "# Adding new dictionary to existing chain_map\n",
    "dict3 = {'e' : 5, 'f' : 6}\n",
    "new_chain_map = chain_map.new_child(dict3)\n",
    "print('\\nUpdated chain_map:',new_chain_map)"
   ]
  },
  {
   "cell_type": "markdown",
   "metadata": {},
   "source": [
    "### Regular Expressions"
   ]
  },
  {
   "cell_type": "markdown",
   "metadata": {},
   "source": [
    "<div class=\"alert alert-info\"><li>Used for matching patterns in strings and text<li>The '<b>.</b>' symbol matches with any character.<li>The '<b>+</b>' symbol repeats the previous symbol one or more times. So, '<b>.+</b>' will match with any string with one or more characters.<li>The '<b>@</b>' symbol only matches with the '@' character.\n",
    "</div>"
   ]
  },
  {
   "cell_type": "code",
   "execution_count": 12,
   "metadata": {},
   "outputs": [
    {
     "name": "stdout",
     "output_type": "stream",
     "text": [
      "Result Object: <_sre.SRE_Match object; span=(0, 22), match='jamwinemusic@gmail.com'>\n",
      "\n",
      "All Groups: ('jamwinemusic', 'gmail', 'com')\n",
      "Accessing a specific group: gmail\n"
     ]
    }
   ],
   "source": [
    "# Steps for regular expressions: \n",
    "# (1) Define a pattern \n",
    "# (2) Compile the pattern \n",
    "# (3) Match the compiled expression with the string\n",
    "\n",
    "# Example 1\n",
    "\n",
    "import re \n",
    "\n",
    "email=\"jamwinemusic@gmail.com\"\n",
    "pattern = r'(.+)@(.+)\\.(.+)' # the parentheses here specifies a group.\n",
    "# the '\\.' symbol specifically matches with the '.' character.\n",
    "\n",
    "regex = re.compile(pattern)\n",
    "result = regex.match(email)\n",
    "print('Result Object:',result)\n",
    "print('\\nAll Groups:',result.groups())\n",
    "print('Accessing a specific group:',result.group(2))"
   ]
  },
  {
   "cell_type": "code",
   "execution_count": 13,
   "metadata": {},
   "outputs": [
    {
     "name": "stdout",
     "output_type": "stream",
     "text": [
      "Result Object: ['Amit ', ' Mishra']\n",
      "\n",
      "Names:\n",
      "Akshay Kumar\n",
      "Sohan Agarwaal\n",
      "Neha Ahuja\n"
     ]
    }
   ],
   "source": [
    "# Example 2\n",
    "\n",
    "import re\n",
    "\n",
    "name='Amit A. Mishra'\n",
    "pattern=r'[A-Z]\\.'\n",
    "regex=re.compile(pattern)\n",
    "result=regex.split(name) # split() works on the compiled pattern\n",
    "print('Result Object:',result)\n",
    "\n",
    "from collections import namedtuple\n",
    "names=['Akshay S. Kumar','Sohan B. Agarwaal','Neha A. Ahuja']\n",
    "Person=namedtuple(typename='Person',field_names=['First','Last'])\n",
    "people=[Person(*regex.split(name)) for name in names]\n",
    "print('\\nNames:')\n",
    "for p in people:\n",
    "    print(p.First.strip(),p.Last.strip())"
   ]
  },
  {
   "cell_type": "code",
   "execution_count": 14,
   "metadata": {},
   "outputs": [
    {
     "name": "stdout",
     "output_type": "stream",
     "text": [
      "Result Object: <_sre.SRE_Match object; span=(0, 3), match='200'>\n",
      "First Index the searched Instance 0\n",
      "Last Index of the searched Instance 3\n",
      "Index Range of the Searched Instance (0, 3)\n",
      "\n",
      "Result Object using match(): None\n",
      "Result Object using search(): <_sre.SRE_Match object; span=(4, 6), match='OK'>\n"
     ]
    }
   ],
   "source": [
    "# Example 3\n",
    "\n",
    "import re\n",
    "\n",
    "response='200 OK'\n",
    "\n",
    "pattern=r'\\d{3}'\n",
    "regex=re.compile(pattern)\n",
    "result=regex.search(response) # search() will look for the compiled pattern\n",
    "print('Result Object:',result)\n",
    "\n",
    "print('First Index the searched Instance',result.start())\n",
    "print('Last Index of the searched Instance',result.end())\n",
    "print('Index Range of the Searched Instance',result.span())\n",
    "\n",
    "pattern=r'[A-Z]+'\n",
    "regex=re.compile(pattern)\n",
    "result=regex.match(response) # None will be returned as there is no match \n",
    "print('\\nResult Object using match():',result)\n",
    "result=regex.search(response)\n",
    "print('Result Object using search():',result)"
   ]
  },
  {
   "cell_type": "code",
   "execution_count": 15,
   "metadata": {},
   "outputs": [
    {
     "name": "stdout",
     "output_type": "stream",
     "text": [
      "Result Object: <_sre.SRE_Match object; span=(15, 27), match='865-345-3453'>\n",
      "Groups: ('865', '345', '3453')\n",
      "\n",
      "Result Object: <_sre.SRE_Match object; span=(15, 27), match='865-345-3453'>\n",
      "Groups: ('865', '345', '3453')\n",
      "Groups with names: {'area_code': '865', 'prefix': '345', 'extension': '3453'}\n"
     ]
    }
   ],
   "source": [
    "# Example 4\n",
    "\n",
    "import re\n",
    "\n",
    "message='Please call at 865-345-3453 for any query.'\n",
    "\n",
    "pattern=r'(\\d{3})-(\\d{3})-(\\d{4})'\n",
    "regex=re.compile(pattern)\n",
    "result=regex.search(message)\n",
    "print('Result Object:',result)\n",
    "print('Groups:',result.groups())\n",
    "\n",
    "# Naming Groups\n",
    "pattern=r'(?P<area_code>\\d{3})-(?P<prefix>\\d{3})-(?P<extension>\\d{4})' # ?P<desired_name> is mentioned for adding name to group\n",
    "regex=re.compile(pattern)\n",
    "result=regex.search(message)\n",
    "print('\\nResult Object:',result)\n",
    "print('Groups:',result.groups())\n",
    "print('Groups with names:',result.groupdict())"
   ]
  },
  {
   "cell_type": "code",
   "execution_count": 16,
   "metadata": {},
   "outputs": [
    {
     "name": "stdout",
     "output_type": "stream",
     "text": [
      "There are 4 Bold tags having content: ['.', '+', '.+', '@']\n",
      "\n",
      "There are 0 Bold tags having content: []\n",
      "\n",
      "There are 4 Bold tags having content: ['.', '+', '.+', '@']\n"
     ]
    }
   ],
   "source": [
    "# Example 5\n",
    "\n",
    "import re\n",
    "\n",
    "html=\"\"\"\n",
    "\n",
    "<div class=\"alert alert-info\"><li>Used for matching patterns in strings and text\n",
    "<li>The '<b>.</b>' symbol matches with any character.\n",
    "<li>The '<b>+</b>' symbol repeats the previous symbol one or more times. \n",
    "So, '<b>.+</b>' will match with any string with one or more characters.\n",
    "<li>The '<b>@</b>' symbol only matches with the '@' character.</div>\n",
    "\n",
    "\"\"\"\n",
    "\n",
    "regex=re.compile('<b>(.+)</b>') # Finding the content of all bold tags\n",
    "results=regex.findall(html)\n",
    "print('There are {} Bold tags having content:'.format(len(results)), results)\n",
    "\n",
    "regex=re.compile('<B>(.+)</B>') # the bold tags are capitalized\n",
    "results=regex.findall(html)\n",
    "print('\\nThere are {} Bold tags having content:'.format(len(results)), results) # No results due to case sensitivity\n",
    "\n",
    "regex=re.compile('<B>(.+)</B>',flags=re.IGNORECASE) # Using re.IGNORECASE, case sensitivity is removed\n",
    "results=regex.findall(html)\n",
    "print('\\nThere are {} Bold tags having content:'.format(len(results)), results)"
   ]
  },
  {
   "cell_type": "code",
   "execution_count": 17,
   "metadata": {},
   "outputs": [
    {
     "name": "stdout",
     "output_type": "stream",
     "text": [
      "Original Text:\n",
      " 1 &lt; 2\n",
      "\n",
      "Text after substitution:\n",
      " 1 < 2\n",
      "\n",
      "----\n",
      "\n",
      "Original Text:\n",
      " 4 &gt; 3\n",
      "\n",
      "Text after substitution:\n",
      " 4 &gt; 3\n"
     ]
    }
   ],
   "source": [
    "# Example 6\n",
    "\n",
    "import re\n",
    "\n",
    "text='1 &lt; 2'\n",
    "print('Original Text:\\n',text)\n",
    "regex=re.compile('&lt;') # &lt; represents less than (<) sign\n",
    "result=regex.sub('<',text) # sub() is used to substitute the compiled expression\n",
    "print('\\nText after substitution:\\n',result)\n",
    "\n",
    "text='4 &gt; 3'\n",
    "print('\\n----\\n\\nOriginal Text:\\n',text)\n",
    "regex=re.compile('&lt;')\n",
    "result=regex.sub('>',text) # Substitution won't work as the compiled expression is unavailable in the original text\n",
    "print('\\nText after substitution:\\n',result)"
   ]
  },
  {
   "cell_type": "markdown",
   "metadata": {},
   "source": [
    "## urllib"
   ]
  },
  {
   "cell_type": "code",
   "execution_count": 18,
   "metadata": {},
   "outputs": [
    {
     "name": "stdout",
     "output_type": "stream",
     "text": [
      "type(urllib): <class 'module'>\n",
      "type(urllib.request): <class 'module'>\n",
      "\n",
      "urllib.__path__: ['C:\\\\Users\\\\shaurya\\\\Anaconda3\\\\lib\\\\urllib']\n",
      "Error, module object has no attribute '__path__'\n",
      "\n",
      "Type: <class 'http.client.HTTPResponse'>\n",
      "Accessing Url: https://en.wikipedia.org/wiki/List_of_state_and_union_territory_capitals_in_India\n",
      "page.status: 200\n",
      "page.reason: OK\n",
      "\n",
      "Printing Data:\n",
      " <!DOCTYPE html>\n",
      " <html class=\"client-nojs\" lang=\"en\" dir=\"ltr\">\n",
      " <head>\n",
      " <meta charset=\"UTF-8\"/>\n",
      " <title>List of state and union territory capitals in India - Wikipedia</title>\n",
      " <script>document.documentElement.className=document.documentElement.className.replace(/(^|\\s)client-nojs(\\s|$)/,\"$1client-\n"
     ]
    }
   ],
   "source": [
    "import urllib # urllib is a package\n",
    "import urllib.request # urllib.request is a module\n",
    "print('type(urllib):',type(urllib))\n",
    "print('type(urllib.request):',type(urllib.request))\n",
    "\n",
    "print('\\nurllib.__path__:',urllib.__path__) # Packages are generally directories\n",
    "try: \n",
    "    print('urllib.request.__path__:',urllib.request.__path__) # Modules are generally files\n",
    "except:     \n",
    "    print(\"Error, module object has no attribute '__path__'\") # path is not available\n",
    "\n",
    "# urllib.request.urlopen is used for opening URLs, usually employing the HTTP protocol\n",
    "\n",
    "from urllib.request import urlopen\n",
    "url = \"https://en.wikipedia.org/wiki/List_of_state_and_union_territory_capitals_in_India\"\n",
    "\n",
    "# request for opening url\n",
    "page=urlopen(url)\n",
    "print('\\nType:',type(page))# page contains the HTTPResponse object\n",
    "print('Accessing Url:',page.url)\n",
    "print('page.status:',page.status)\n",
    "print('page.reason:',page.reason)\n",
    "\n",
    "lines=page.readlines() # contains the content of the webpage\n",
    "data=' '.join([line.decode('utf-8') for line in lines]) # converting webpage from bytes into python string\n",
    "print('\\nPrinting Data:\\n',data[:300])\n",
    "\n",
    "page.close() # Closing the connection"
   ]
  },
  {
   "cell_type": "code",
   "execution_count": 19,
   "metadata": {
    "scrolled": true
   },
   "outputs": [
    {
     "name": "stdout",
     "output_type": "stream",
     "text": [
      "URL: https://www.google.com/search?ei=w98kXbKUKbniz7sP_cOhgAc&q=yes+bank+share+price&oq=yes+bank+&gs_l=psy-ab.3.0.35i39i285i70i250j35i39j0i131i20i263j0i131i67j0l3j0i131j0l2.8198.9575..10578...0.0..0.678.2226.2-2j2j1j1......0....1..gws-wiz.......0i71j35i39i285j0i67.6E-N83j_AI0\n",
      "\n",
      "Scheme: https\n",
      "Path: /search\n",
      "Query: ei=w98kXbKUKbniz7sP_cOhgAc&q=yes+bank+share+price&oq=yes+bank+&gs_l=psy-ab.3.0.35i39i285i70i250j35i39j0i131i20i263j0i131i67j0l3j0i131j0l2.8198.9575..10578...0.0..0.678.2226.2-2j2j1j1......0....1..gws-wiz.......0i71j35i39i285j0i67.6E-N83j_AI0\n"
     ]
    }
   ],
   "source": [
    "# urllib.parse is used to fetch components of url (Parsing URLs)\n",
    "\n",
    "from urllib.request import urlparse\n",
    "\n",
    "url = 'https://www.google.com/search?ei=w98kXbKUKbniz7sP_cOhgAc&q=yes+bank+share+price&oq=yes+bank+&gs_l=psy-ab.3.0.35i39i285i70i250j35i39j0i131i20i263j0i131i67j0l3j0i131j0l2.8198.9575..10578...0.0..0.678.2226.2-2j2j1j1......0....1..gws-wiz.......0i71j35i39i285j0i67.6E-N83j_AI0'\n",
    "\n",
    "result=urlparse(url)\n",
    "print('URL:',url)\n",
    "print('\\nScheme:',result.scheme)\n",
    "print('Path:',result.path)\n",
    "print('Query:',result.query)"
   ]
  },
  {
   "cell_type": "code",
   "execution_count": null,
   "metadata": {},
   "outputs": [],
   "source": []
  }
 ],
 "metadata": {
  "kernelspec": {
   "display_name": "Python 3",
   "language": "python",
   "name": "python3"
  },
  "language_info": {
   "codemirror_mode": {
    "name": "ipython",
    "version": 3
   },
   "file_extension": ".py",
   "mimetype": "text/x-python",
   "name": "python",
   "nbconvert_exporter": "python",
   "pygments_lexer": "ipython3",
   "version": "3.6.7"
  }
 },
 "nbformat": 4,
 "nbformat_minor": 2
}
